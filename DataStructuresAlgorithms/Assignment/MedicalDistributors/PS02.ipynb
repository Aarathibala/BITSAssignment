{
 "cells": [
  {
   "cell_type": "code",
<<<<<<< HEAD
   "execution_count": 1,
=======
   "execution_count": 126,
>>>>>>> 5a9bb160e90eab3fef4acd739aa9f5bf4ebf78a9
   "id": "c46cf5bc",
   "metadata": {},
   "outputs": [],
   "source": [
    "import os\n",
    "# Reference - https://coderbook.com/@marcus/how-to-create-a-hash-table-from-scratch-in-python/\n",
    "# Reference - https://coderzpy.com/implementation-of-a-hash-table-in-python/\n",
    "class CustomHashTable(object):\n",
    "    \n",
    "    # To initialize the CustomHashTable object.\n",
    "    def __init__(self, length):\n",
    "        self.entriesArray = [None] * length\n",
    "    \n",
    "    # Function to insert Entries into the Hash Table in [key,value] format\n",
    "    def put(self, key, value):\n",
    "        # Getting the position of the key based on hash\n",
    "        position = self.getHash(key)\n",
    "        # Check if already an entry exists in the position\n",
    "        if self.entriesArray[position] is not None:\n",
    "            # Replacing the old value with the new value if the same key exists\n",
    "            if self.entriesArray[position][0][0] == key:\n",
    "                self.entriesArray[position] = []\n",
    "                self.entriesArray[position].append([key, value])\n",
    "            # Looking for the next empty slot\n",
    "            else:                 \n",
    "                nextslot = self.rehash(position,len(self.entriesArray))\n",
    "                # Identifying the next empty slot\n",
    "                while self.entriesArray[nextslot] != None and self.entriesArray[nextslot] != key:\n",
    "                    nextslot = self.rehash(nextslot,len(self.entriesArray))\n",
    "                # Inserting the [key,value] in the identified slot\n",
    "                self.entriesArray[nextslot] = []\n",
    "                self.entriesArray[nextslot].append([key, value]) \n",
    "                \n",
    "        else:\n",
    "            # Inserting the [key,value] in the position(based on hash of key) index\n",
    "            self.entriesArray[position] = []\n",
    "            self.entriesArray[position].append([key, value])\n",
    "    \n",
    "    # Function to get the index of the array to be used based on the key\n",
    "    def getHash(self, key):\n",
    "        size = len(self.entriesArray)\n",
    "        return hash(key) % size\n",
    "    \n",
    "    # Function to get the index of the array to be used based on the previous index in case of hash collissions\n",
    "    def rehash(self,oldhash,size):\n",
    "        return (oldhash+1)%size\n",
    "    \n",
    "    # Function to write to output file the name and delivery status of pharmacies of those not received their deliveries yet    \n",
    "    def fetchNonDeliveredPharmacies(self):\n",
    "        for entry in self.entriesArray:\n",
    "            if(entry is not None and (entry[0][1][2].casefold() == 'yet to deliver'.casefold() or entry[0][1][2].casefold() == 'out for delivery'.casefold())):\n",
    "                outputFile.write(entry[0][0] + ' : ' + entry[0][1][2] +'\\n')\n",
    "    \n",
    "    # Function to write to output file the name of pharmacies whose delivery status is Delivered    \n",
    "    def fetchDeliveredPharmacies(self):\n",
    "        for entry in self.entriesArray:\n",
    "            if(entry is not None and entry[0][1][2].casefold() == 'Delivered'.casefold()):\n",
    "                outputFile.write(entry[0][0] +'\\n')                \n",
    "    \n",
    "    # Function to write to output file the name of pharmacies from the given locality\n",
    "    def fetchPharmaciesByLocality(self, locality):\n",
    "        for entry in self.entriesArray:\n",
    "            if(entry is not None and entry[0][1][1].casefold() == locality.casefold()):\n",
    "                outputFile.write(entry[0][0] +'\\n')      "
   ]
  },
  {
   "cell_type": "code",
<<<<<<< HEAD
   "execution_count": 2,
=======
   "execution_count": 127,
>>>>>>> 5a9bb160e90eab3fef4acd739aa9f5bf4ebf78a9
   "id": "e35cd5bc",
   "metadata": {},
   "outputs": [],
   "source": [
    "# Reading the input file\n",
    "inputFile = open('inputPS02.txt', 'r')\n",
    "# Reading the lines from the input File\n",
    "inputLines = inputFile.readlines()\n",
    "\n",
    "# Reading the prompts file\n",
    "promptFile = open('promptsPS02.txt', 'r')\n",
    "# Reading the lines from the prompts File\n",
    "promptLines = promptFile.readlines()\n",
    "\n",
    "inputCount = 0\n",
    "\n",
    "# writing to output file\n",
    "outputFile = open('outputPS02.txt', 'w')\n",
    "inputKeys = []\n",
    "inputKeysLength = 0\n",
    "\n",
    "# Calculating the number of lines/rows in input file\n",
    "numberOfInputs = len(inputLines)\n",
    "# Initializing the HashTable with the size equal to the number of lines in the input file\n",
    "customHashTable = CustomHashTable(numberOfInputs)\n",
    "\n",
    "# Iterating the lines present in the input file\n",
    "for line in inputLines:\n",
    "    # Strips the newline character and identify the empty lines\n",
    "    if not line.strip():\n",
    "        outputFile.write('Empty Line found in the input file.' +'\\n')\n",
    "    else:\n",
    "        #Split the line by '/' character\n",
    "        inputKeys = line.strip().split('/')\n",
    "        inputKeysLength = len(inputKeys)\n",
    "        if(inputKeysLength == 4):\n",
    "            # Inserting into the HashTable if the input is valid\n",
    "            customHashTable.put(inputKeys[0].strip(), [inputKeys[1].strip(), inputKeys[2].strip(), inputKeys[3].strip()])\n",
    "            # Incrementing this inputCount counter variable on each successful insertion into the Hashtable\n",
    "            inputCount += 1\n",
    "        else:\n",
    "            # Input is not valid if the structure is not proper\n",
    "            outputFile.write('Invalid Input.' +'\\n')\n",
    "\n",
    "# Writing the number of successful insertion into the output file\n",
    "outputFile.write('Successfully inserted ' + str(inputCount) + ' records into the system.' +'\\n')\n",
    "\n",
    "# Iterating the lines present in the prompt file\n",
    "for line in promptLines:\n",
    "    # Strips the newline character and identify the empty lines\n",
    "    if not line.strip():\n",
    "        outputFile.write('Empty Line found in the prompt file.' +'\\n')\n",
    "    else:\n",
    "        # Invoking fetchNonDeliveredPharmacies function if the prompt code is 'Delivery Status'\n",
    "        if(line.strip().casefold() == 'Delivery Status'.casefold()):\n",
    "                customHashTable.fetchNonDeliveredPharmacies()\n",
    "        # Invoking fetchDeliveredPharmacies function if the prompt code is 'Delivered'\n",
    "        elif(line.strip().casefold() == 'Delivered'.casefold()):\n",
    "                customHashTable.fetchDeliveredPharmacies()\n",
    "        # Invoking fetchPharmaciesByLocality function if the prompt code is neither 'Delivery Status' nor 'Delivered'\n",
    "        else:\n",
    "                customHashTable.fetchPharmaciesByLocality(line.strip())\n",
    "\n",
    "# Save and close the output file\n",
    "outputFile.close()"
   ]
  },
  {
   "cell_type": "code",
   "execution_count": null,
   "id": "d679523e",
   "metadata": {},
   "outputs": [],
   "source": []
  },
  {
   "cell_type": "code",
   "execution_count": null,
   "id": "a9f574f8",
   "metadata": {},
   "outputs": [],
   "source": []
  }
 ],
 "metadata": {
  "kernelspec": {
<<<<<<< HEAD
   "display_name": "base",
   "language": "python",
   "name": "python3"
=======
   "display_name": "myclone",
   "language": "python",
   "name": "myclone"
>>>>>>> 5a9bb160e90eab3fef4acd739aa9f5bf4ebf78a9
  },
  "language_info": {
   "codemirror_mode": {
    "name": "ipython",
    "version": 3
   },
   "file_extension": ".py",
   "mimetype": "text/x-python",
   "name": "python",
   "nbconvert_exporter": "python",
   "pygments_lexer": "ipython3",
<<<<<<< HEAD
   "version": "3.12.4"
=======
   "version": "3.8.8"
>>>>>>> 5a9bb160e90eab3fef4acd739aa9f5bf4ebf78a9
  }
 },
 "nbformat": 4,
 "nbformat_minor": 5
}
